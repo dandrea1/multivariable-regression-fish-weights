{
 "cells": [
  {
   "attachments": {},
   "cell_type": "markdown",
   "metadata": {},
   "source": [
    "# Multivariate Regression to predict fish weight\n",
    "https://www.kaggle.com/datasets/aungpyaeap/fish-market\n"
   ]
  },
  {
   "attachments": {},
   "cell_type": "markdown",
   "metadata": {},
   "source": [
    "### About the Data Set"
   ]
  },
  {
   "attachments": {},
   "cell_type": "markdown",
   "metadata": {},
   "source": [
    "### About Multivariate Regression\n",
    "\n",
    "Multivariate (or single variable) regression, allows us to predict our predictor variable based on the values of one or more independent variables. \n",
    "\n",
    "$ \\hat{y} = b_1 * x_1 + b_2 * x_2... b_k * x_k $\n",
    "\n",
    "After generating the coefficients of the model to predict $ \\hat{y} $ , we find $ R $  which measures the correlation between the predictor variable and the indepedent variables. Then, we can use adjusted $ R^2 $ to see how much the predictor variable can be explained the the independent variables. We must use adjusted $ R^2 $ because $ R^2 $ overestimates when multiple independent variables are used. Next, we must interpret the standard estimation error, which tells us, on average, how much the model overestimates the predictor variable. \n",
    "\n",
    "Next, we must statistically verify our model. We can use an F-test to test the null hypothesis, which is that all coeffients are 0, i.e. they have no affect on the predictor variable. \n",
    "\n",
    "Lastly, we must look at the standardized coeffieints' beta values to see which independent variables have the most influence on our predictor variable. We also need to check the p-value for statistical significance. \n",
    "\n",
    "https://www.youtube.com/watch?v=sDrAoR17pNM\n",
    "\n",
    "#### Assumptions\n",
    "1. Must be linear relationship between dependent and independent variables.\n",
    "2. Error must be normally distributed (kolmorogrov smirnov test or graph as histogram)\n",
    "3. No multicollinearity (if there is it means coefficients are unstbale)\n",
    "4. No heteroskedasticity (variance of the residuals must be constant across predicted values)"
   ]
  },
  {
   "attachments": {},
   "cell_type": "markdown",
   "metadata": {},
   "source": [
    "### Exploratory Data Analysis"
   ]
  },
  {
   "cell_type": "code",
   "execution_count": 53,
   "metadata": {},
   "outputs": [],
   "source": [
    "# Import required libraries\n",
    "\n",
    "\n",
    "# Import Dataset \n"
   ]
  },
  {
   "attachments": {},
   "cell_type": "markdown",
   "metadata": {},
   "source": [
    "Now, we will check that are dataset meets all the assumptions for multilinear regression. \n",
    "\n",
    "1. Must be linear relationship between dependent and independent variables.\n",
    "2. Error must be normally distributed (kolmorogrov smirnov test or graph as histogram)\n",
    "3. No multicollinearity (if there is it means coefficients are unstbale)\n",
    "4. No heteroskedasticity (variance of the residuals must be constant across predicted values)"
   ]
  },
  {
   "attachments": {},
   "cell_type": "markdown",
   "metadata": {},
   "source": [
    "### Multivariable Regression\n",
    "\n",
    "https://www.educative.io/answers/how-to-implement-multivariable-regression-in-python\n"
   ]
  },
  {
   "attachments": {},
   "cell_type": "markdown",
   "metadata": {},
   "source": [
    "R^2 and p-value  ANOVA"
   ]
  },
  {
   "attachments": {},
   "cell_type": "markdown",
   "metadata": {},
   "source": [
    "### Regression Error - epsilon"
   ]
  },
  {
   "attachments": {},
   "cell_type": "markdown",
   "metadata": {},
   "source": [
    "### Multivariable vs. Singular Regression"
   ]
  },
  {
   "attachments": {},
   "cell_type": "markdown",
   "metadata": {},
   "source": [
    "### Conclusion\n",
    "\n",
    "the relationships between variables in one's background are so complex that multivriable regression is a better predictor "
   ]
  }
 ],
 "metadata": {
  "kernelspec": {
   "display_name": "base",
   "language": "python",
   "name": "python3"
  },
  "language_info": {
   "codemirror_mode": {
    "name": "ipython",
    "version": 3
   },
   "file_extension": ".py",
   "mimetype": "text/x-python",
   "name": "python",
   "nbconvert_exporter": "python",
   "pygments_lexer": "ipython3",
   "version": "3.9.13"
  },
  "orig_nbformat": 4,
  "vscode": {
   "interpreter": {
    "hash": "de72d1bd3e7fe5ec5666a8ee1ae7c20af62f9858951a81697daab6bcd2c9970c"
   }
  }
 },
 "nbformat": 4,
 "nbformat_minor": 2
}
